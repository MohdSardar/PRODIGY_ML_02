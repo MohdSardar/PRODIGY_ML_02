{
 "cells": [
  {
   "cell_type": "markdown",
   "id": "9637154f",
   "metadata": {
    "papermill": {
     "duration": 0.008786,
     "end_time": "2024-01-23T19:58:47.327128",
     "exception": false,
     "start_time": "2024-01-23T19:58:47.318342",
     "status": "completed"
    },
    "tags": []
   },
   "source": [
    "# **Import libraries**"
   ]
  },
  {
   "cell_type": "code",
   "execution_count": 1,
   "id": "ba76ba8e",
   "metadata": {
    "execution": {
     "iopub.execute_input": "2024-01-23T19:58:47.346792Z",
     "iopub.status.busy": "2024-01-23T19:58:47.345984Z",
     "iopub.status.idle": "2024-01-23T19:58:48.873880Z",
     "shell.execute_reply": "2024-01-23T19:58:48.872805Z"
    },
    "papermill": {
     "duration": 1.540621,
     "end_time": "2024-01-23T19:58:48.876419",
     "exception": false,
     "start_time": "2024-01-23T19:58:47.335798",
     "status": "completed"
    },
    "tags": []
   },
   "outputs": [],
   "source": [
    "import numpy as np\n",
    "import pandas as pd\n",
    "from matplotlib import pyplot as plt\n",
    "import seaborn as sns"
   ]
  },
  {
   "cell_type": "markdown",
   "id": "b36fe685",
   "metadata": {
    "papermill": {
     "duration": 0.00791,
     "end_time": "2024-01-23T19:58:48.892658",
     "exception": false,
     "start_time": "2024-01-23T19:58:48.884748",
     "status": "completed"
    },
    "tags": []
   },
   "source": [
    "# EDA & Data pre-processing"
   ]
  },
  {
   "cell_type": "code",
   "execution_count": 2,
   "id": "d54766f7",
   "metadata": {
    "execution": {
     "iopub.execute_input": "2024-01-23T19:58:48.910741Z",
     "iopub.status.busy": "2024-01-23T19:58:48.910220Z",
     "iopub.status.idle": "2024-01-23T19:58:48.950473Z",
     "shell.execute_reply": "2024-01-23T19:58:48.949461Z"
    },
    "papermill": {
     "duration": 0.051851,
     "end_time": "2024-01-23T19:58:48.952689",
     "exception": false,
     "start_time": "2024-01-23T19:58:48.900838",
     "status": "completed"
    },
    "tags": []
   },
   "outputs": [
    {
     "data": {
      "text/html": [
       "<div>\n",
       "<style scoped>\n",
       "    .dataframe tbody tr th:only-of-type {\n",
       "        vertical-align: middle;\n",
       "    }\n",
       "\n",
       "    .dataframe tbody tr th {\n",
       "        vertical-align: top;\n",
       "    }\n",
       "\n",
       "    .dataframe thead th {\n",
       "        text-align: right;\n",
       "    }\n",
       "</style>\n",
       "<table border=\"1\" class=\"dataframe\">\n",
       "  <thead>\n",
       "    <tr style=\"text-align: right;\">\n",
       "      <th></th>\n",
       "      <th>CustomerID</th>\n",
       "      <th>Gender</th>\n",
       "      <th>Age</th>\n",
       "      <th>Annual Income (k$)</th>\n",
       "      <th>Spending Score (1-100)</th>\n",
       "    </tr>\n",
       "  </thead>\n",
       "  <tbody>\n",
       "    <tr>\n",
       "      <th>0</th>\n",
       "      <td>1</td>\n",
       "      <td>Male</td>\n",
       "      <td>19</td>\n",
       "      <td>15</td>\n",
       "      <td>39</td>\n",
       "    </tr>\n",
       "    <tr>\n",
       "      <th>1</th>\n",
       "      <td>2</td>\n",
       "      <td>Male</td>\n",
       "      <td>21</td>\n",
       "      <td>15</td>\n",
       "      <td>81</td>\n",
       "    </tr>\n",
       "    <tr>\n",
       "      <th>2</th>\n",
       "      <td>3</td>\n",
       "      <td>Female</td>\n",
       "      <td>20</td>\n",
       "      <td>16</td>\n",
       "      <td>6</td>\n",
       "    </tr>\n",
       "    <tr>\n",
       "      <th>3</th>\n",
       "      <td>4</td>\n",
       "      <td>Female</td>\n",
       "      <td>23</td>\n",
       "      <td>16</td>\n",
       "      <td>77</td>\n",
       "    </tr>\n",
       "    <tr>\n",
       "      <th>4</th>\n",
       "      <td>5</td>\n",
       "      <td>Female</td>\n",
       "      <td>31</td>\n",
       "      <td>17</td>\n",
       "      <td>40</td>\n",
       "    </tr>\n",
       "  </tbody>\n",
       "</table>\n",
       "</div>"
      ],
      "text/plain": [
       "   CustomerID  Gender  Age  Annual Income (k$)  Spending Score (1-100)\n",
       "0           1    Male   19                  15                      39\n",
       "1           2    Male   21                  15                      81\n",
       "2           3  Female   20                  16                       6\n",
       "3           4  Female   23                  16                      77\n",
       "4           5  Female   31                  17                      40"
      ]
     },
     "execution_count": 2,
     "metadata": {},
     "output_type": "execute_result"
    }
   ],
   "source": [
    "df = pd.read_csv('Mall_Customers.csv')\n",
    "df.head()"
   ]
  },
  {
   "cell_type": "code",
   "execution_count": 3,
   "id": "9a34c3c4",
   "metadata": {
    "execution": {
     "iopub.execute_input": "2024-01-23T19:58:48.971884Z",
     "iopub.status.busy": "2024-01-23T19:58:48.971494Z",
     "iopub.status.idle": "2024-01-23T19:58:48.979557Z",
     "shell.execute_reply": "2024-01-23T19:58:48.978490Z"
    },
    "papermill": {
     "duration": 0.020163,
     "end_time": "2024-01-23T19:58:48.981630",
     "exception": false,
     "start_time": "2024-01-23T19:58:48.961467",
     "status": "completed"
    },
    "tags": []
   },
   "outputs": [
    {
     "data": {
      "text/plain": [
       "(200, 5)"
      ]
     },
     "execution_count": 3,
     "metadata": {},
     "output_type": "execute_result"
    }
   ],
   "source": [
    "df.shape"
   ]
  },
  {
   "cell_type": "code",
   "execution_count": 4,
   "id": "d6aad60d",
   "metadata": {
    "execution": {
     "iopub.execute_input": "2024-01-23T19:58:49.001067Z",
     "iopub.status.busy": "2024-01-23T19:58:49.000464Z",
     "iopub.status.idle": "2024-01-23T19:58:49.010990Z",
     "shell.execute_reply": "2024-01-23T19:58:49.010306Z"
    },
    "papermill": {
     "duration": 0.022562,
     "end_time": "2024-01-23T19:58:49.012928",
     "exception": false,
     "start_time": "2024-01-23T19:58:48.990366",
     "status": "completed"
    },
    "tags": []
   },
   "outputs": [
    {
     "data": {
      "text/plain": [
       "0"
      ]
     },
     "execution_count": 4,
     "metadata": {},
     "output_type": "execute_result"
    }
   ],
   "source": [
    "df['CustomerID'].duplicated().sum()"
   ]
  },
  {
   "cell_type": "code",
   "execution_count": 5,
   "id": "8621e464",
   "metadata": {
    "execution": {
     "iopub.execute_input": "2024-01-23T19:58:49.032236Z",
     "iopub.status.busy": "2024-01-23T19:58:49.031680Z",
     "iopub.status.idle": "2024-01-23T19:58:49.128964Z",
     "shell.execute_reply": "2024-01-23T19:58:49.127846Z"
    },
    "papermill": {
     "duration": 0.10952,
     "end_time": "2024-01-23T19:58:49.131223",
     "exception": false,
     "start_time": "2024-01-23T19:58:49.021703",
     "status": "completed"
    },
    "tags": []
   },
   "outputs": [
    {
     "name": "stdout",
     "output_type": "stream",
     "text": [
      "<class 'pandas.core.frame.DataFrame'>\n",
      "RangeIndex: 200 entries, 0 to 199\n",
      "Data columns (total 5 columns):\n",
      " #   Column                  Non-Null Count  Dtype \n",
      "---  ------                  --------------  ----- \n",
      " 0   CustomerID              200 non-null    int64 \n",
      " 1   Gender                  200 non-null    object\n",
      " 2   Age                     200 non-null    int64 \n",
      " 3   Annual Income (k$)      200 non-null    int64 \n",
      " 4   Spending Score (1-100)  200 non-null    int64 \n",
      "dtypes: int64(4), object(1)\n",
      "memory usage: 7.9+ KB\n"
     ]
    }
   ],
   "source": [
    "df.info()"
   ]
  },
  {
   "cell_type": "code",
   "execution_count": 6,
   "id": "d88c9510",
   "metadata": {
    "execution": {
     "iopub.execute_input": "2024-01-23T19:58:49.151803Z",
     "iopub.status.busy": "2024-01-23T19:58:49.151396Z",
     "iopub.status.idle": "2024-01-23T19:58:49.159366Z",
     "shell.execute_reply": "2024-01-23T19:58:49.158637Z"
    },
    "papermill": {
     "duration": 0.020736,
     "end_time": "2024-01-23T19:58:49.161436",
     "exception": false,
     "start_time": "2024-01-23T19:58:49.140700",
     "status": "completed"
    },
    "tags": []
   },
   "outputs": [],
   "source": [
    "#  drop id column because its a unique identifier number\n",
    "df=df.drop(columns=['CustomerID'])"
   ]
  },
  {
   "cell_type": "code",
   "execution_count": 7,
   "id": "43736ed0",
   "metadata": {
    "execution": {
     "iopub.execute_input": "2024-01-23T19:58:49.181631Z",
     "iopub.status.busy": "2024-01-23T19:58:49.180729Z",
     "iopub.status.idle": "2024-01-23T19:58:49.190118Z",
     "shell.execute_reply": "2024-01-23T19:58:49.189252Z"
    },
    "papermill": {
     "duration": 0.021254,
     "end_time": "2024-01-23T19:58:49.191974",
     "exception": false,
     "start_time": "2024-01-23T19:58:49.170720",
     "status": "completed"
    },
    "tags": []
   },
   "outputs": [
    {
     "data": {
      "text/html": [
       "<div>\n",
       "<style scoped>\n",
       "    .dataframe tbody tr th:only-of-type {\n",
       "        vertical-align: middle;\n",
       "    }\n",
       "\n",
       "    .dataframe tbody tr th {\n",
       "        vertical-align: top;\n",
       "    }\n",
       "\n",
       "    .dataframe thead th {\n",
       "        text-align: right;\n",
       "    }\n",
       "</style>\n",
       "<table border=\"1\" class=\"dataframe\">\n",
       "  <thead>\n",
       "    <tr style=\"text-align: right;\">\n",
       "      <th></th>\n",
       "      <th>Gender</th>\n",
       "      <th>Age</th>\n",
       "      <th>Annual Income (k$)</th>\n",
       "      <th>Spending Score (1-100)</th>\n",
       "    </tr>\n",
       "  </thead>\n",
       "  <tbody>\n",
       "    <tr>\n",
       "      <th>0</th>\n",
       "      <td>Male</td>\n",
       "      <td>19</td>\n",
       "      <td>15</td>\n",
       "      <td>39</td>\n",
       "    </tr>\n",
       "    <tr>\n",
       "      <th>1</th>\n",
       "      <td>Male</td>\n",
       "      <td>21</td>\n",
       "      <td>15</td>\n",
       "      <td>81</td>\n",
       "    </tr>\n",
       "    <tr>\n",
       "      <th>2</th>\n",
       "      <td>Female</td>\n",
       "      <td>20</td>\n",
       "      <td>16</td>\n",
       "      <td>6</td>\n",
       "    </tr>\n",
       "    <tr>\n",
       "      <th>3</th>\n",
       "      <td>Female</td>\n",
       "      <td>23</td>\n",
       "      <td>16</td>\n",
       "      <td>77</td>\n",
       "    </tr>\n",
       "    <tr>\n",
       "      <th>4</th>\n",
       "      <td>Female</td>\n",
       "      <td>31</td>\n",
       "      <td>17</td>\n",
       "      <td>40</td>\n",
       "    </tr>\n",
       "  </tbody>\n",
       "</table>\n",
       "</div>"
      ],
      "text/plain": [
       "   Gender  Age  Annual Income (k$)  Spending Score (1-100)\n",
       "0    Male   19                  15                      39\n",
       "1    Male   21                  15                      81\n",
       "2  Female   20                  16                       6\n",
       "3  Female   23                  16                      77\n",
       "4  Female   31                  17                      40"
      ]
     },
     "execution_count": 7,
     "metadata": {},
     "output_type": "execute_result"
    }
   ],
   "source": [
    "df.head()"
   ]
  },
  {
   "cell_type": "code",
   "execution_count": 8,
   "id": "9909f530",
   "metadata": {
    "execution": {
     "iopub.execute_input": "2024-01-23T19:58:49.212045Z",
     "iopub.status.busy": "2024-01-23T19:58:49.211347Z",
     "iopub.status.idle": "2024-01-23T19:58:49.229991Z",
     "shell.execute_reply": "2024-01-23T19:58:49.228929Z"
    },
    "papermill": {
     "duration": 0.031231,
     "end_time": "2024-01-23T19:58:49.232214",
     "exception": false,
     "start_time": "2024-01-23T19:58:49.200983",
     "status": "completed"
    },
    "tags": []
   },
   "outputs": [
    {
     "data": {
      "text/html": [
       "<div>\n",
       "<style scoped>\n",
       "    .dataframe tbody tr th:only-of-type {\n",
       "        vertical-align: middle;\n",
       "    }\n",
       "\n",
       "    .dataframe tbody tr th {\n",
       "        vertical-align: top;\n",
       "    }\n",
       "\n",
       "    .dataframe thead th {\n",
       "        text-align: right;\n",
       "    }\n",
       "</style>\n",
       "<table border=\"1\" class=\"dataframe\">\n",
       "  <thead>\n",
       "    <tr style=\"text-align: right;\">\n",
       "      <th></th>\n",
       "      <th>Age</th>\n",
       "      <th>Annual Income (k$)</th>\n",
       "      <th>Spending Score (1-100)</th>\n",
       "    </tr>\n",
       "  </thead>\n",
       "  <tbody>\n",
       "    <tr>\n",
       "      <th>count</th>\n",
       "      <td>200.000000</td>\n",
       "      <td>200.000000</td>\n",
       "      <td>200.000000</td>\n",
       "    </tr>\n",
       "    <tr>\n",
       "      <th>mean</th>\n",
       "      <td>38.850000</td>\n",
       "      <td>60.560000</td>\n",
       "      <td>50.200000</td>\n",
       "    </tr>\n",
       "    <tr>\n",
       "      <th>std</th>\n",
       "      <td>13.969007</td>\n",
       "      <td>26.264721</td>\n",
       "      <td>25.823522</td>\n",
       "    </tr>\n",
       "    <tr>\n",
       "      <th>min</th>\n",
       "      <td>18.000000</td>\n",
       "      <td>15.000000</td>\n",
       "      <td>1.000000</td>\n",
       "    </tr>\n",
       "    <tr>\n",
       "      <th>25%</th>\n",
       "      <td>28.750000</td>\n",
       "      <td>41.500000</td>\n",
       "      <td>34.750000</td>\n",
       "    </tr>\n",
       "    <tr>\n",
       "      <th>50%</th>\n",
       "      <td>36.000000</td>\n",
       "      <td>61.500000</td>\n",
       "      <td>50.000000</td>\n",
       "    </tr>\n",
       "    <tr>\n",
       "      <th>75%</th>\n",
       "      <td>49.000000</td>\n",
       "      <td>78.000000</td>\n",
       "      <td>73.000000</td>\n",
       "    </tr>\n",
       "    <tr>\n",
       "      <th>max</th>\n",
       "      <td>70.000000</td>\n",
       "      <td>137.000000</td>\n",
       "      <td>99.000000</td>\n",
       "    </tr>\n",
       "  </tbody>\n",
       "</table>\n",
       "</div>"
      ],
      "text/plain": [
       "              Age  Annual Income (k$)  Spending Score (1-100)\n",
       "count  200.000000          200.000000              200.000000\n",
       "mean    38.850000           60.560000               50.200000\n",
       "std     13.969007           26.264721               25.823522\n",
       "min     18.000000           15.000000                1.000000\n",
       "25%     28.750000           41.500000               34.750000\n",
       "50%     36.000000           61.500000               50.000000\n",
       "75%     49.000000           78.000000               73.000000\n",
       "max     70.000000          137.000000               99.000000"
      ]
     },
     "execution_count": 8,
     "metadata": {},
     "output_type": "execute_result"
    }
   ],
   "source": [
    "df.describe()"
   ]
  },
  {
   "cell_type": "code",
   "execution_count": 9,
   "id": "dfa239ba",
   "metadata": {
    "execution": {
     "iopub.execute_input": "2024-01-23T19:58:49.252769Z",
     "iopub.status.busy": "2024-01-23T19:58:49.251984Z",
     "iopub.status.idle": "2024-01-23T19:58:49.259714Z",
     "shell.execute_reply": "2024-01-23T19:58:49.258684Z"
    },
    "papermill": {
     "duration": 0.020175,
     "end_time": "2024-01-23T19:58:49.261627",
     "exception": false,
     "start_time": "2024-01-23T19:58:49.241452",
     "status": "completed"
    },
    "tags": []
   },
   "outputs": [
    {
     "data": {
      "text/plain": [
       "0"
      ]
     },
     "execution_count": 9,
     "metadata": {},
     "output_type": "execute_result"
    }
   ],
   "source": [
    "df.duplicated().sum()"
   ]
  },
  {
   "cell_type": "code",
   "execution_count": 10,
   "id": "53218a64",
   "metadata": {
    "execution": {
     "iopub.execute_input": "2024-01-23T19:58:49.282116Z",
     "iopub.status.busy": "2024-01-23T19:58:49.281515Z",
     "iopub.status.idle": "2024-01-23T19:58:49.289203Z",
     "shell.execute_reply": "2024-01-23T19:58:49.288332Z"
    },
    "papermill": {
     "duration": 0.020242,
     "end_time": "2024-01-23T19:58:49.291142",
     "exception": false,
     "start_time": "2024-01-23T19:58:49.270900",
     "status": "completed"
    },
    "tags": []
   },
   "outputs": [
    {
     "data": {
      "text/plain": [
       "Gender                    0\n",
       "Age                       0\n",
       "Annual Income (k$)        0\n",
       "Spending Score (1-100)    0\n",
       "dtype: int64"
      ]
     },
     "execution_count": 10,
     "metadata": {},
     "output_type": "execute_result"
    }
   ],
   "source": [
    "df.isna().sum()"
   ]
  },
  {
   "cell_type": "code",
   "execution_count": 11,
   "id": "5370cd6d",
   "metadata": {
    "execution": {
     "iopub.execute_input": "2024-01-23T19:58:49.312148Z",
     "iopub.status.busy": "2024-01-23T19:58:49.311552Z",
     "iopub.status.idle": "2024-01-23T19:58:49.589360Z",
     "shell.execute_reply": "2024-01-23T19:58:49.588398Z"
    },
    "papermill": {
     "duration": 0.290885,
     "end_time": "2024-01-23T19:58:49.591717",
     "exception": false,
     "start_time": "2024-01-23T19:58:49.300832",
     "status": "completed"
    },
    "tags": []
   },
   "outputs": [
    {
     "data": {
      "text/plain": [
       "<Axes: >"
      ]
     },
     "execution_count": 11,
     "metadata": {},
     "output_type": "execute_result"
    },
    {
     "data": {
      "image/png": "[encoded data removed]",
      "text/plain": [
       "<Figure size 640x480 with 1 Axes>"
      ]
     },
     "metadata": {},
     "output_type": "display_data"
    }
   ],
   "source": [
    "df.plot(kind='box')"
   ]
  },
  {
   "cell_type": "code",
   "execution_count": 12,
   "id": "0b06d337",
   "metadata": {
    "execution": {
     "iopub.execute_input": "2024-01-23T19:58:49.613176Z",
     "iopub.status.busy": "2024-01-23T19:58:49.612811Z",
     "iopub.status.idle": "2024-01-23T19:58:49.619445Z",
     "shell.execute_reply": "2024-01-23T19:58:49.618422Z"
    },
    "papermill": {
     "duration": 0.020573,
     "end_time": "2024-01-23T19:58:49.622188",
     "exception": false,
     "start_time": "2024-01-23T19:58:49.601615",
     "status": "completed"
    },
    "tags": []
   },
   "outputs": [
    {
     "data": {
      "text/plain": [
       "137"
      ]
     },
     "execution_count": 12,
     "metadata": {},
     "output_type": "execute_result"
    }
   ],
   "source": [
    "df['Annual Income (k$)'].max()"
   ]
  },
  {
   "cell_type": "code",
   "execution_count": 13,
   "id": "9b2cfc8b",
   "metadata": {
    "execution": {
     "iopub.execute_input": "2024-01-23T19:58:49.644438Z",
     "iopub.status.busy": "2024-01-23T19:58:49.643833Z",
     "iopub.status.idle": "2024-01-23T19:58:49.652009Z",
     "shell.execute_reply": "2024-01-23T19:58:49.651048Z"
    },
    "papermill": {
     "duration": 0.02187,
     "end_time": "2024-01-23T19:58:49.654238",
     "exception": false,
     "start_time": "2024-01-23T19:58:49.632368",
     "status": "completed"
    },
    "tags": []
   },
   "outputs": [
    {
     "data": {
      "text/plain": [
       "Annual Income (k$)\n",
       "54     12\n",
       "78     12\n",
       "48      6\n",
       "71      6\n",
       "63      6\n",
       "       ..\n",
       "58      2\n",
       "59      2\n",
       "16      2\n",
       "64      2\n",
       "137     2\n",
       "Name: count, Length: 64, dtype: int64"
      ]
     },
     "execution_count": 13,
     "metadata": {},
     "output_type": "execute_result"
    }
   ],
   "source": [
    "df['Annual Income (k$)'].value_counts()"
   ]
  },
  {
   "cell_type": "markdown",
   "id": "eabb7864",
   "metadata": {
    "papermill": {
     "duration": 0.009675,
     "end_time": "2024-01-23T19:58:49.674089",
     "exception": false,
     "start_time": "2024-01-23T19:58:49.664414",
     "status": "completed"
    },
    "tags": []
   },
   "source": [
    "# Visualization"
   ]
  },
  {
   "cell_type": "code",
   "execution_count": 14,
   "id": "723f15bf",
   "metadata": {
    "execution": {
     "iopub.execute_input": "2024-01-23T19:58:49.695939Z",
     "iopub.status.busy": "2024-01-23T19:58:49.695548Z",
     "iopub.status.idle": "2024-01-23T19:58:49.701328Z",
     "shell.execute_reply": "2024-01-23T19:58:49.700309Z"
    },
    "papermill": {
     "duration": 0.019065,
     "end_time": "2024-01-23T19:58:49.703300",
     "exception": false,
     "start_time": "2024-01-23T19:58:49.684235",
     "status": "completed"
    },
    "tags": []
   },
   "outputs": [],
   "source": [
    "#Mapping\n",
    "df['Gender'] = df['Gender'].replace({'Male':0,'Female':1})\n"
   ]
  },
  {
   "cell_type": "code",
   "execution_count": 15,
   "id": "aa137d35",
   "metadata": {
    "execution": {
     "iopub.execute_input": "2024-01-23T19:58:49.725351Z",
     "iopub.status.busy": "2024-01-23T19:58:49.724689Z",
     "iopub.status.idle": "2024-01-23T19:58:50.178477Z",
     "shell.execute_reply": "2024-01-23T19:58:50.177638Z"
    },
    "papermill": {
     "duration": 0.467271,
     "end_time": "2024-01-23T19:58:50.180660",
     "exception": false,
     "start_time": "2024-01-23T19:58:49.713389",
     "status": "completed"
    },
    "tags": []
   },
   "outputs": [
    {
     "data": {
      "image/png": "[encoded data removed]",
      "text/plain": [
       "<Figure size 1200x1000 with 2 Axes>"
      ]
     },
     "metadata": {},
     "output_type": "display_data"
    }
   ],
   "source": [
    "sns.set(style=\"whitegrid\")\n",
    "correlation_matrix = df.corr()\n",
    "fig, ax = plt.subplots(figsize=(12, 10))\n",
    "plt.title(\"Correlation Matrix Heatmap\", fontsize=16)\n",
    "sns.heatmap(correlation_matrix, annot=True, annot_kws={\"size\": 12}, cmap='coolwarm', ax=ax)\n",
    "cbar = ax.collections[0].colorbar\n",
    "cbar.ax.tick_params(labelsize=12)\n",
    "cbar.set_label('Correlation Strength', rotation=270, fontsize=14, labelpad=15)\n",
    "plt.show()"
   ]
  },
  {
   "cell_type": "code",
   "execution_count": 16,
   "id": "744e4392",
   "metadata": {
    "execution": {
     "iopub.execute_input": "2024-01-23T19:58:50.204862Z",
     "iopub.status.busy": "2024-01-23T19:58:50.204115Z",
     "iopub.status.idle": "2024-01-23T19:58:50.387474Z",
     "shell.execute_reply": "2024-01-23T19:58:50.386309Z"
    },
    "papermill": {
     "duration": 0.198487,
     "end_time": "2024-01-23T19:58:50.390324",
     "exception": false,
     "start_time": "2024-01-23T19:58:50.191837",
     "status": "completed"
    },
    "tags": []
   },
   "outputs": [
    {
     "name": "stdout",
     "output_type": "stream",
     "text": [
      "Total Males : 88 \n",
      "Total Females : 112 \n"
     ]
    },
    {
     "data": {
      "image/png": "[encoded data removed]",
      "text/plain": [
       "<Figure size 600x600 with 1 Axes>"
      ]
     },
     "metadata": {},
     "output_type": "display_data"
    }
   ],
   "source": [
    "print ('Total Males : {} '.format(df.Gender.value_counts()[0]))\n",
    "print ('Total Females : {} '.format(df.Gender.value_counts()[1]))\n",
    "fig, ax = plt.subplots(figsize=(6,6))\n",
    "\n",
    "df.Gender.value_counts().plot(kind='pie',autopct=\"%.1f%%\")\n",
    "plt.title('Gender Distributions Data')\n",
    "plt.legend()\n",
    "plt.show()"
   ]
  },
  {
   "cell_type": "code",
   "execution_count": 17,
   "id": "2070ee45",
   "metadata": {
    "execution": {
     "iopub.execute_input": "2024-01-23T19:58:50.431519Z",
     "iopub.status.busy": "2024-01-23T19:58:50.431100Z",
     "iopub.status.idle": "2024-01-23T19:58:51.685701Z",
     "shell.execute_reply": "2024-01-23T19:58:51.684620Z"
    },
    "papermill": {
     "duration": 1.278164,
     "end_time": "2024-01-23T19:58:51.688205",
     "exception": false,
     "start_time": "2024-01-23T19:58:50.410041",
     "status": "completed"
    },
    "tags": []
   },
   "outputs": [
    {
     "data": {
      "image/png": "[encoded data removed]",
      "text/plain": [
       "<Figure size 1000x1000 with 4 Axes>"
      ]
     },
     "metadata": {},
     "output_type": "display_data"
    }
   ],
   "source": [
    "plt.figure(figsize=(10,10))\n",
    "i=1\n",
    "for col in df.columns:\n",
    "    plt.subplot(2,2,i)\n",
    "    sns.histplot(df[col])\n",
    "    i+=1"
   ]
  },
  {
   "cell_type": "code",
   "execution_count": 18,
   "id": "fb8dac63",
   "metadata": {
    "execution": {
     "iopub.execute_input": "2024-01-23T19:58:51.773625Z",
     "iopub.status.busy": "2024-01-23T19:58:51.772988Z",
     "iopub.status.idle": "2024-01-23T19:58:51.777492Z",
     "shell.execute_reply": "2024-01-23T19:58:51.776765Z"
    },
    "papermill": {
     "duration": 0.020679,
     "end_time": "2024-01-23T19:58:51.779398",
     "exception": false,
     "start_time": "2024-01-23T19:58:51.758719",
     "status": "completed"
    },
    "tags": []
   },
   "outputs": [],
   "source": [
    "import warnings\n",
    "warnings.filterwarnings('ignore')"
   ]
  },
  {
   "cell_type": "code",
   "execution_count": 19,
   "id": "f853846f",
   "metadata": {
    "execution": {
     "iopub.execute_input": "2024-01-23T19:58:51.806828Z",
     "iopub.status.busy": "2024-01-23T19:58:51.806180Z",
     "iopub.status.idle": "2024-01-23T19:58:52.170966Z",
     "shell.execute_reply": "2024-01-23T19:58:52.169893Z"
    },
    "papermill": {
     "duration": 0.38102,
     "end_time": "2024-01-23T19:58:52.173175",
     "exception": false,
     "start_time": "2024-01-23T19:58:51.792155",
     "status": "completed"
    },
    "tags": []
   },
   "outputs": [
    {
     "data": {
      "image/png": "[encoded data removed]",
      "text/plain": [
       "<Figure size 600x600 with 1 Axes>"
      ]
     },
     "metadata": {},
     "output_type": "display_data"
    }
   ],
   "source": [
    "plt.figure(figsize=(6, 6))\n",
    "sns.distplot(df[\"Age\"])\n",
    "plt.xlabel(\"Age\")\n",
    "plt.show()\n"
   ]
  },
  {
   "cell_type": "code",
   "execution_count": 20,
   "id": "1750207b",
   "metadata": {
    "execution": {
     "iopub.execute_input": "2024-01-23T19:58:52.201809Z",
     "iopub.status.busy": "2024-01-23T19:58:52.201434Z",
     "iopub.status.idle": "2024-01-23T19:58:52.362309Z",
     "shell.execute_reply": "2024-01-23T19:58:52.361324Z"
    },
    "papermill": {
     "duration": 0.178476,
     "end_time": "2024-01-23T19:58:52.365187",
     "exception": false,
     "start_time": "2024-01-23T19:58:52.186711",
     "status": "completed"
    },
    "tags": []
   },
   "outputs": [
    {
     "data": {
      "text/plain": [
       "array([[-1.12815215, -1.42456879, -1.73899919, -0.43480148],\n",
       "       [-1.12815215, -1.28103541, -1.73899919,  1.19570407],\n",
       "       [ 0.88640526, -1.3528021 , -1.70082976, -1.71591298],\n",
       "       [ 0.88640526, -1.13750203, -1.70082976,  1.04041783],\n",
       "       [ 0.88640526, -0.56336851, -1.66266033, -0.39597992],\n",
       "       [ 0.88640526, -1.20926872, -1.66266033,  1.00159627],\n",
       "       [ 0.88640526, -0.27630176, -1.62449091, -1.71591298],\n",
       "       [ 0.88640526, -1.13750203, -1.62449091,  1.70038436],\n",
       "       [-1.12815215,  1.80493225, -1.58632148, -1.83237767],\n",
       "       [ 0.88640526, -0.6351352 , -1.58632148,  0.84631002],\n",
       "       [-1.12815215,  2.02023231, -1.58632148, -1.4053405 ],\n",
       "       [ 0.88640526, -0.27630176, -1.58632148,  1.89449216],\n",
       "       [ 0.88640526,  1.37433211, -1.54815205, -1.36651894],\n",
       "       [ 0.88640526, -1.06573534, -1.54815205,  1.04041783],\n",
       "       [-1.12815215, -0.13276838, -1.54815205, -1.44416206],\n",
       "       [-1.12815215, -1.20926872, -1.54815205,  1.11806095],\n",
       "       [ 0.88640526, -0.27630176, -1.50998262, -0.59008772],\n",
       "       [-1.12815215, -1.3528021 , -1.50998262,  0.61338066],\n",
       "       [-1.12815215,  0.94373197, -1.43364376, -0.82301709],\n",
       "       [ 0.88640526, -0.27630176, -1.43364376,  1.8556706 ],\n",
       "       [-1.12815215, -0.27630176, -1.39547433, -0.59008772],\n",
       "       [-1.12815215, -0.99396865, -1.39547433,  0.88513158],\n",
       "       [ 0.88640526,  0.51313183, -1.3573049 , -1.75473454],\n",
       "       [-1.12815215, -0.56336851, -1.3573049 ,  0.88513158],\n",
       "       [ 0.88640526,  1.08726535, -1.24279661, -1.4053405 ],\n",
       "       [-1.12815215, -0.70690189, -1.24279661,  1.23452563],\n",
       "       [ 0.88640526,  0.44136514, -1.24279661, -0.7065524 ],\n",
       "       [-1.12815215, -0.27630176, -1.24279661,  0.41927286],\n",
       "       [ 0.88640526,  0.08253169, -1.20462718, -0.74537397],\n",
       "       [ 0.88640526, -1.13750203, -1.20462718,  1.42863343],\n",
       "       [-1.12815215,  1.51786549, -1.16645776, -1.7935561 ],\n",
       "       [ 0.88640526, -1.28103541, -1.16645776,  0.88513158],\n",
       "       [-1.12815215,  1.01549866, -1.05194947, -1.7935561 ],\n",
       "       [-1.12815215, -1.49633548, -1.05194947,  1.62274124],\n",
       "       [ 0.88640526,  0.7284319 , -1.05194947, -1.4053405 ],\n",
       "       [ 0.88640526, -1.28103541, -1.05194947,  1.19570407],\n",
       "       [ 0.88640526,  0.22606507, -1.01378004, -1.28887582],\n",
       "       [ 0.88640526, -0.6351352 , -1.01378004,  0.88513158],\n",
       "       [ 0.88640526, -0.20453507, -0.89927175, -0.93948177],\n",
       "       [ 0.88640526, -1.3528021 , -0.89927175,  0.96277471],\n",
       "       [ 0.88640526,  1.87669894, -0.86110232, -0.59008772],\n",
       "       [-1.12815215, -1.06573534, -0.86110232,  1.62274124],\n",
       "       [-1.12815215,  0.65666521, -0.82293289, -0.55126616],\n",
       "       [ 0.88640526, -0.56336851, -0.82293289,  0.41927286],\n",
       "       [ 0.88640526,  0.7284319 , -0.82293289, -0.86183865],\n",
       "       [ 0.88640526, -1.06573534, -0.82293289,  0.5745591 ],\n",
       "       [ 0.88640526,  0.80019859, -0.78476346,  0.18634349],\n",
       "       [ 0.88640526, -0.85043527, -0.78476346, -0.12422899],\n",
       "       [ 0.88640526, -0.70690189, -0.78476346, -0.3183368 ],\n",
       "       [ 0.88640526, -0.56336851, -0.78476346, -0.3183368 ],\n",
       "       [ 0.88640526,  0.7284319 , -0.70842461,  0.06987881],\n",
       "       [-1.12815215, -0.41983513, -0.70842461,  0.38045129],\n",
       "       [ 0.88640526, -0.56336851, -0.67025518,  0.14752193],\n",
       "       [-1.12815215,  1.4460988 , -0.67025518,  0.38045129],\n",
       "       [ 0.88640526,  0.80019859, -0.67025518, -0.20187212],\n",
       "       [-1.12815215,  0.58489852, -0.67025518, -0.35715836],\n",
       "       [ 0.88640526,  0.87196528, -0.63208575, -0.00776431],\n",
       "       [-1.12815215,  2.16376569, -0.63208575, -0.16305055],\n",
       "       [ 0.88640526, -0.85043527, -0.55574689,  0.03105725],\n",
       "       [-1.12815215,  1.01549866, -0.55574689, -0.16305055],\n",
       "       [-1.12815215,  2.23553238, -0.55574689,  0.22516505],\n",
       "       [-1.12815215, -1.42456879, -0.55574689,  0.18634349],\n",
       "       [ 0.88640526,  2.02023231, -0.51757746,  0.06987881],\n",
       "       [ 0.88640526,  1.08726535, -0.51757746,  0.34162973],\n",
       "       [-1.12815215,  1.73316556, -0.47940803,  0.03105725],\n",
       "       [-1.12815215, -1.49633548, -0.47940803,  0.34162973],\n",
       "       [ 0.88640526,  0.29783176, -0.47940803, -0.00776431],\n",
       "       [ 0.88640526,  2.091999  , -0.47940803, -0.08540743],\n",
       "       [-1.12815215, -1.42456879, -0.47940803,  0.34162973],\n",
       "       [ 0.88640526, -0.49160182, -0.47940803, -0.12422899],\n",
       "       [-1.12815215,  2.23553238, -0.4412386 ,  0.18634349],\n",
       "       [ 0.88640526,  0.58489852, -0.4412386 , -0.3183368 ],\n",
       "       [ 0.88640526,  1.51786549, -0.40306917, -0.04658587],\n",
       "       [ 0.88640526,  1.51786549, -0.40306917,  0.22516505],\n",
       "       [-1.12815215,  1.4460988 , -0.25039146, -0.12422899],\n",
       "       [-1.12815215, -0.92220196, -0.25039146,  0.14752193],\n",
       "       [ 0.88640526,  0.44136514, -0.25039146,  0.10870037],\n",
       "       [-1.12815215,  0.08253169, -0.25039146, -0.08540743],\n",
       "       [ 0.88640526, -1.13750203, -0.25039146,  0.06987881],\n",
       "       [ 0.88640526,  0.7284319 , -0.25039146, -0.3183368 ],\n",
       "       [-1.12815215,  1.30256542, -0.25039146,  0.03105725],\n",
       "       [-1.12815215, -0.06100169, -0.25039146,  0.18634349],\n",
       "       [-1.12815215,  2.02023231, -0.25039146, -0.35715836],\n",
       "       [ 0.88640526,  0.51313183, -0.25039146, -0.24069368],\n",
       "       [ 0.88640526, -1.28103541, -0.25039146,  0.26398661],\n",
       "       [-1.12815215,  0.65666521, -0.25039146, -0.16305055],\n",
       "       [ 0.88640526,  1.15903204, -0.13588317,  0.30280817],\n",
       "       [ 0.88640526, -1.20926872, -0.13588317,  0.18634349],\n",
       "       [ 0.88640526, -0.34806844, -0.09771374,  0.38045129],\n",
       "       [ 0.88640526,  0.80019859, -0.09771374, -0.16305055],\n",
       "       [ 0.88640526,  2.091999  , -0.05954431,  0.18634349],\n",
       "       [-1.12815215, -1.49633548, -0.05954431, -0.35715836],\n",
       "       [-1.12815215,  0.65666521, -0.02137488, -0.04658587],\n",
       "       [ 0.88640526,  0.08253169, -0.02137488, -0.39597992],\n",
       "       [ 0.88640526, -0.49160182, -0.02137488, -0.3183368 ],\n",
       "       [-1.12815215, -1.06573534, -0.02137488,  0.06987881],\n",
       "       [ 0.88640526,  0.58489852, -0.02137488, -0.12422899],\n",
       "       [ 0.88640526, -0.85043527, -0.02137488, -0.00776431],\n",
       "       [-1.12815215,  0.65666521,  0.01679455, -0.3183368 ],\n",
       "       [-1.12815215, -1.3528021 ,  0.01679455, -0.04658587],\n",
       "       [ 0.88640526, -1.13750203,  0.05496398, -0.35715836],\n",
       "       [ 0.88640526,  0.7284319 ,  0.05496398, -0.08540743],\n",
       "       [-1.12815215,  2.02023231,  0.05496398,  0.34162973],\n",
       "       [-1.12815215, -0.92220196,  0.05496398,  0.18634349],\n",
       "       [-1.12815215,  0.7284319 ,  0.05496398,  0.22516505],\n",
       "       [ 0.88640526, -1.28103541,  0.05496398, -0.3183368 ],\n",
       "       [ 0.88640526,  1.94846562,  0.09313341, -0.00776431],\n",
       "       [-1.12815215,  1.08726535,  0.09313341, -0.16305055],\n",
       "       [-1.12815215,  2.091999  ,  0.09313341, -0.27951524],\n",
       "       [-1.12815215,  1.94846562,  0.09313341, -0.08540743],\n",
       "       [-1.12815215,  1.87669894,  0.09313341,  0.06987881],\n",
       "       [ 0.88640526, -1.42456879,  0.09313341,  0.14752193],\n",
       "       [ 0.88640526, -0.06100169,  0.13130284, -0.3183368 ],\n",
       "       [-1.12815215, -1.42456879,  0.13130284, -0.16305055],\n",
       "       [ 0.88640526, -1.49633548,  0.16947227, -0.08540743],\n",
       "       [ 0.88640526, -1.42456879,  0.16947227, -0.00776431],\n",
       "       [ 0.88640526,  1.73316556,  0.16947227, -0.27951524],\n",
       "       [ 0.88640526,  0.7284319 ,  0.16947227,  0.34162973],\n",
       "       [ 0.88640526,  0.87196528,  0.24581112, -0.27951524],\n",
       "       [ 0.88640526,  0.80019859,  0.24581112,  0.26398661],\n",
       "       [-1.12815215, -0.85043527,  0.24581112,  0.22516505],\n",
       "       [ 0.88640526, -0.06100169,  0.24581112, -0.39597992],\n",
       "       [ 0.88640526,  0.08253169,  0.32214998,  0.30280817],\n",
       "       [-1.12815215,  0.010765  ,  0.32214998,  1.58391968],\n",
       "       [ 0.88640526, -1.13750203,  0.36031941, -0.82301709],\n",
       "       [ 0.88640526, -0.56336851,  0.36031941,  1.04041783],\n",
       "       [-1.12815215,  0.29783176,  0.39848884, -0.59008772],\n",
       "       [-1.12815215,  0.08253169,  0.39848884,  1.73920592],\n",
       "       [-1.12815215,  1.4460988 ,  0.39848884, -1.52180518],\n",
       "       [-1.12815215, -0.06100169,  0.39848884,  0.96277471],\n",
       "       [-1.12815215,  0.58489852,  0.39848884, -1.5994483 ],\n",
       "       [-1.12815215,  0.010765  ,  0.39848884,  0.96277471],\n",
       "       [ 0.88640526, -0.99396865,  0.43665827, -0.62890928],\n",
       "       [ 0.88640526, -0.56336851,  0.43665827,  0.80748846],\n",
       "       [-1.12815215, -1.3528021 ,  0.4748277 , -1.75473454],\n",
       "       [ 0.88640526, -0.70690189,  0.4748277 ,  1.46745499],\n",
       "       [ 0.88640526,  0.36959845,  0.4748277 , -1.67709142],\n",
       "       [-1.12815215, -0.49160182,  0.4748277 ,  0.88513158],\n",
       "       [-1.12815215, -1.42456879,  0.51299713, -1.56062674],\n",
       "       [ 0.88640526, -0.27630176,  0.51299713,  0.84631002],\n",
       "       [ 0.88640526,  1.30256542,  0.55116656, -1.75473454],\n",
       "       [-1.12815215, -0.49160182,  0.55116656,  1.6615628 ],\n",
       "       [ 0.88640526, -0.77866858,  0.58933599, -0.39597992],\n",
       "       [ 0.88640526, -0.49160182,  0.58933599,  1.42863343],\n",
       "       [-1.12815215, -0.99396865,  0.62750542, -1.48298362],\n",
       "       [-1.12815215, -0.77866858,  0.62750542,  1.81684904],\n",
       "       [-1.12815215,  0.65666521,  0.62750542, -0.55126616],\n",
       "       [ 0.88640526, -0.49160182,  0.62750542,  0.92395314],\n",
       "       [ 0.88640526, -0.34806844,  0.66567484, -1.09476801],\n",
       "       [-1.12815215, -0.34806844,  0.66567484,  1.54509812],\n",
       "       [-1.12815215,  0.29783176,  0.66567484, -1.28887582],\n",
       "       [-1.12815215,  0.010765  ,  0.66567484,  1.46745499],\n",
       "       [ 0.88640526,  0.36959845,  0.66567484, -1.17241113],\n",
       "       [ 0.88640526, -0.06100169,  0.66567484,  1.00159627],\n",
       "       [ 0.88640526,  0.58489852,  0.66567484, -1.32769738],\n",
       "       [ 0.88640526, -0.85043527,  0.66567484,  1.50627656],\n",
       "       [-1.12815215, -0.13276838,  0.66567484, -1.91002079],\n",
       "       [ 0.88640526, -0.6351352 ,  0.66567484,  1.07923939],\n",
       "       [-1.12815215, -0.34806844,  0.66567484, -1.91002079],\n",
       "       [ 0.88640526, -0.6351352 ,  0.66567484,  0.88513158],\n",
       "       [ 0.88640526,  1.23079873,  0.70384427, -0.59008772],\n",
       "       [ 0.88640526, -0.70690189,  0.70384427,  1.27334719],\n",
       "       [-1.12815215, -1.42456879,  0.78018313, -1.75473454],\n",
       "       [ 0.88640526, -0.56336851,  0.78018313,  1.6615628 ],\n",
       "       [-1.12815215,  0.80019859,  0.93286085, -0.93948177],\n",
       "       [ 0.88640526, -0.20453507,  0.93286085,  0.96277471],\n",
       "       [-1.12815215,  0.22606507,  0.97103028, -1.17241113],\n",
       "       [ 0.88640526, -0.41983513,  0.97103028,  1.73920592],\n",
       "       [ 0.88640526, -0.20453507,  1.00919971, -0.90066021],\n",
       "       [-1.12815215, -0.49160182,  1.00919971,  0.49691598],\n",
       "       [-1.12815215,  0.08253169,  1.00919971, -1.44416206],\n",
       "       [-1.12815215, -0.77866858,  1.00919971,  0.96277471],\n",
       "       [-1.12815215, -0.20453507,  1.00919971, -1.56062674],\n",
       "       [-1.12815215, -0.20453507,  1.00919971,  1.62274124],\n",
       "       [ 0.88640526,  0.94373197,  1.04736914, -1.44416206],\n",
       "       [ 0.88640526, -0.6351352 ,  1.04736914,  1.38981187],\n",
       "       [-1.12815215,  1.37433211,  1.04736914, -1.36651894],\n",
       "       [-1.12815215, -0.85043527,  1.04736914,  0.72984534],\n",
       "       [-1.12815215,  1.4460988 ,  1.23821628, -1.4053405 ],\n",
       "       [-1.12815215, -0.27630176,  1.23821628,  1.54509812],\n",
       "       [ 0.88640526, -0.13276838,  1.390894  , -0.7065524 ],\n",
       "       [ 0.88640526, -0.49160182,  1.390894  ,  1.38981187],\n",
       "       [-1.12815215,  0.51313183,  1.42906343, -1.36651894],\n",
       "       [ 0.88640526, -0.70690189,  1.42906343,  1.46745499],\n",
       "       [ 0.88640526,  0.15429838,  1.46723286, -0.43480148],\n",
       "       [-1.12815215, -0.6351352 ,  1.46723286,  1.81684904],\n",
       "       [ 0.88640526,  1.08726535,  1.54357172, -1.01712489],\n",
       "       [-1.12815215, -0.77866858,  1.54357172,  0.69102378],\n",
       "       [ 0.88640526,  0.15429838,  1.61991057, -1.28887582],\n",
       "       [ 0.88640526, -0.20453507,  1.61991057,  1.35099031],\n",
       "       [ 0.88640526, -0.34806844,  1.61991057, -1.05594645],\n",
       "       [ 0.88640526, -0.49160182,  1.61991057,  0.72984534],\n",
       "       [-1.12815215, -0.41983513,  2.00160487, -1.63826986],\n",
       "       [ 0.88640526, -0.06100169,  2.00160487,  1.58391968],\n",
       "       [ 0.88640526,  0.58489852,  2.26879087, -1.32769738],\n",
       "       [ 0.88640526, -0.27630176,  2.26879087,  1.11806095],\n",
       "       [ 0.88640526,  0.44136514,  2.49780745, -0.86183865],\n",
       "       [-1.12815215, -0.49160182,  2.49780745,  0.92395314],\n",
       "       [-1.12815215, -0.49160182,  2.91767117, -1.25005425],\n",
       "       [-1.12815215, -0.6351352 ,  2.91767117,  1.27334719]])"
      ]
     },
     "execution_count": 20,
     "metadata": {},
     "output_type": "execute_result"
    }
   ],
   "source": [
    "from sklearn.preprocessing import StandardScaler\n",
    "scaler = StandardScaler()\n",
    "columns = df.columns\n",
    "scaled_dataset_standard = scaler.fit_transform(df)\n",
    "scaled_dataset_standard"
   ]
  },
  {
   "cell_type": "code",
   "execution_count": 21,
   "id": "1ac150fc",
   "metadata": {
    "execution": {
     "iopub.execute_input": "2024-01-23T19:58:52.396532Z",
     "iopub.status.busy": "2024-01-23T19:58:52.395539Z",
     "iopub.status.idle": "2024-01-23T19:58:52.409472Z",
     "shell.execute_reply": "2024-01-23T19:58:52.408417Z"
    },
    "papermill": {
     "duration": 0.032057,
     "end_time": "2024-01-23T19:58:52.411642",
     "exception": false,
     "start_time": "2024-01-23T19:58:52.379585",
     "status": "completed"
    },
    "tags": []
   },
   "outputs": [
    {
     "data": {
      "text/html": [
       "<div>\n",
       "<style scoped>\n",
       "    .dataframe tbody tr th:only-of-type {\n",
       "        vertical-align: middle;\n",
       "    }\n",
       "\n",
       "    .dataframe tbody tr th {\n",
       "        vertical-align: top;\n",
       "    }\n",
       "\n",
       "    .dataframe thead th {\n",
       "        text-align: right;\n",
       "    }\n",
       "</style>\n",
       "<table border=\"1\" class=\"dataframe\">\n",
       "  <thead>\n",
       "    <tr style=\"text-align: right;\">\n",
       "      <th></th>\n",
       "      <th>Gender</th>\n",
       "      <th>Age</th>\n",
       "      <th>Annual Income (k$)</th>\n",
       "      <th>Spending Score (1-100)</th>\n",
       "    </tr>\n",
       "  </thead>\n",
       "  <tbody>\n",
       "    <tr>\n",
       "      <th>0</th>\n",
       "      <td>-1.128152</td>\n",
       "      <td>-1.424569</td>\n",
       "      <td>-1.738999</td>\n",
       "      <td>-0.434801</td>\n",
       "    </tr>\n",
       "    <tr>\n",
       "      <th>1</th>\n",
       "      <td>-1.128152</td>\n",
       "      <td>-1.281035</td>\n",
       "      <td>-1.738999</td>\n",
       "      <td>1.195704</td>\n",
       "    </tr>\n",
       "    <tr>\n",
       "      <th>2</th>\n",
       "      <td>0.886405</td>\n",
       "      <td>-1.352802</td>\n",
       "      <td>-1.700830</td>\n",
       "      <td>-1.715913</td>\n",
       "    </tr>\n",
       "    <tr>\n",
       "      <th>3</th>\n",
       "      <td>0.886405</td>\n",
       "      <td>-1.137502</td>\n",
       "      <td>-1.700830</td>\n",
       "      <td>1.040418</td>\n",
       "    </tr>\n",
       "    <tr>\n",
       "      <th>4</th>\n",
       "      <td>0.886405</td>\n",
       "      <td>-0.563369</td>\n",
       "      <td>-1.662660</td>\n",
       "      <td>-0.395980</td>\n",
       "    </tr>\n",
       "    <tr>\n",
       "      <th>...</th>\n",
       "      <td>...</td>\n",
       "      <td>...</td>\n",
       "      <td>...</td>\n",
       "      <td>...</td>\n",
       "    </tr>\n",
       "    <tr>\n",
       "      <th>195</th>\n",
       "      <td>0.886405</td>\n",
       "      <td>-0.276302</td>\n",
       "      <td>2.268791</td>\n",
       "      <td>1.118061</td>\n",
       "    </tr>\n",
       "    <tr>\n",
       "      <th>196</th>\n",
       "      <td>0.886405</td>\n",
       "      <td>0.441365</td>\n",
       "      <td>2.497807</td>\n",
       "      <td>-0.861839</td>\n",
       "    </tr>\n",
       "    <tr>\n",
       "      <th>197</th>\n",
       "      <td>-1.128152</td>\n",
       "      <td>-0.491602</td>\n",
       "      <td>2.497807</td>\n",
       "      <td>0.923953</td>\n",
       "    </tr>\n",
       "    <tr>\n",
       "      <th>198</th>\n",
       "      <td>-1.128152</td>\n",
       "      <td>-0.491602</td>\n",
       "      <td>2.917671</td>\n",
       "      <td>-1.250054</td>\n",
       "    </tr>\n",
       "    <tr>\n",
       "      <th>199</th>\n",
       "      <td>-1.128152</td>\n",
       "      <td>-0.635135</td>\n",
       "      <td>2.917671</td>\n",
       "      <td>1.273347</td>\n",
       "    </tr>\n",
       "  </tbody>\n",
       "</table>\n",
       "<p>200 rows × 4 columns</p>\n",
       "</div>"
      ],
      "text/plain": [
       "       Gender       Age  Annual Income (k$)  Spending Score (1-100)\n",
       "0   -1.128152 -1.424569           -1.738999               -0.434801\n",
       "1   -1.128152 -1.281035           -1.738999                1.195704\n",
       "2    0.886405 -1.352802           -1.700830               -1.715913\n",
       "3    0.886405 -1.137502           -1.700830                1.040418\n",
       "4    0.886405 -0.563369           -1.662660               -0.395980\n",
       "..        ...       ...                 ...                     ...\n",
       "195  0.886405 -0.276302            2.268791                1.118061\n",
       "196  0.886405  0.441365            2.497807               -0.861839\n",
       "197 -1.128152 -0.491602            2.497807                0.923953\n",
       "198 -1.128152 -0.491602            2.917671               -1.250054\n",
       "199 -1.128152 -0.635135            2.917671                1.273347\n",
       "\n",
       "[200 rows x 4 columns]"
      ]
     },
     "execution_count": 21,
     "metadata": {},
     "output_type": "execute_result"
    }
   ],
   "source": [
    "data = pd.DataFrame(data= scaled_dataset_standard , columns=columns)\n",
    "data"
   ]
  },
  {
   "cell_type": "code",
   "execution_count": 22,
   "id": "c5379c35",
   "metadata": {
    "execution": {
     "iopub.execute_input": "2024-01-23T19:58:52.441500Z",
     "iopub.status.busy": "2024-01-23T19:58:52.440637Z",
     "iopub.status.idle": "2024-01-23T19:58:52.451423Z",
     "shell.execute_reply": "2024-01-23T19:58:52.450642Z"
    },
    "papermill": {
     "duration": 0.027958,
     "end_time": "2024-01-23T19:58:52.453574",
     "exception": false,
     "start_time": "2024-01-23T19:58:52.425616",
     "status": "completed"
    },
    "tags": []
   },
   "outputs": [
    {
     "data": {
      "text/plain": [
       "array([[-1.73899919, -0.43480148],\n",
       "       [-1.73899919,  1.19570407],\n",
       "       [-1.70082976, -1.71591298],\n",
       "       [-1.70082976,  1.04041783],\n",
       "       [-1.66266033, -0.39597992],\n",
       "       [-1.66266033,  1.00159627],\n",
       "       [-1.62449091, -1.71591298],\n",
       "       [-1.62449091,  1.70038436],\n",
       "       [-1.58632148, -1.83237767],\n",
       "       [-1.58632148,  0.84631002],\n",
       "       [-1.58632148, -1.4053405 ],\n",
       "       [-1.58632148,  1.89449216],\n",
       "       [-1.54815205, -1.36651894],\n",
       "       [-1.54815205,  1.04041783],\n",
       "       [-1.54815205, -1.44416206],\n",
       "       [-1.54815205,  1.11806095],\n",
       "       [-1.50998262, -0.59008772],\n",
       "       [-1.50998262,  0.61338066],\n",
       "       [-1.43364376, -0.82301709],\n",
       "       [-1.43364376,  1.8556706 ],\n",
       "       [-1.39547433, -0.59008772],\n",
       "       [-1.39547433,  0.88513158],\n",
       "       [-1.3573049 , -1.75473454],\n",
       "       [-1.3573049 ,  0.88513158],\n",
       "       [-1.24279661, -1.4053405 ],\n",
       "       [-1.24279661,  1.23452563],\n",
       "       [-1.24279661, -0.7065524 ],\n",
       "       [-1.24279661,  0.41927286],\n",
       "       [-1.20462718, -0.74537397],\n",
       "       [-1.20462718,  1.42863343],\n",
       "       [-1.16645776, -1.7935561 ],\n",
       "       [-1.16645776,  0.88513158],\n",
       "       [-1.05194947, -1.7935561 ],\n",
       "       [-1.05194947,  1.62274124],\n",
       "       [-1.05194947, -1.4053405 ],\n",
       "       [-1.05194947,  1.19570407],\n",
       "       [-1.01378004, -1.28887582],\n",
       "       [-1.01378004,  0.88513158],\n",
       "       [-0.89927175, -0.93948177],\n",
       "       [-0.89927175,  0.96277471],\n",
       "       [-0.86110232, -0.59008772],\n",
       "       [-0.86110232,  1.62274124],\n",
       "       [-0.82293289, -0.55126616],\n",
       "       [-0.82293289,  0.41927286],\n",
       "       [-0.82293289, -0.86183865],\n",
       "       [-0.82293289,  0.5745591 ],\n",
       "       [-0.78476346,  0.18634349],\n",
       "       [-0.78476346, -0.12422899],\n",
       "       [-0.78476346, -0.3183368 ],\n",
       "       [-0.78476346, -0.3183368 ],\n",
       "       [-0.70842461,  0.06987881],\n",
       "       [-0.70842461,  0.38045129],\n",
       "       [-0.67025518,  0.14752193],\n",
       "       [-0.67025518,  0.38045129],\n",
       "       [-0.67025518, -0.20187212],\n",
       "       [-0.67025518, -0.35715836],\n",
       "       [-0.63208575, -0.00776431],\n",
       "       [-0.63208575, -0.16305055],\n",
       "       [-0.55574689,  0.03105725],\n",
       "       [-0.55574689, -0.16305055],\n",
       "       [-0.55574689,  0.22516505],\n",
       "       [-0.55574689,  0.18634349],\n",
       "       [-0.51757746,  0.06987881],\n",
       "       [-0.51757746,  0.34162973],\n",
       "       [-0.47940803,  0.03105725],\n",
       "       [-0.47940803,  0.34162973],\n",
       "       [-0.47940803, -0.00776431],\n",
       "       [-0.47940803, -0.08540743],\n",
       "       [-0.47940803,  0.34162973],\n",
       "       [-0.47940803, -0.12422899],\n",
       "       [-0.4412386 ,  0.18634349],\n",
       "       [-0.4412386 , -0.3183368 ],\n",
       "       [-0.40306917, -0.04658587],\n",
       "       [-0.40306917,  0.22516505],\n",
       "       [-0.25039146, -0.12422899],\n",
       "       [-0.25039146,  0.14752193],\n",
       "       [-0.25039146,  0.10870037],\n",
       "       [-0.25039146, -0.08540743],\n",
       "       [-0.25039146,  0.06987881],\n",
       "       [-0.25039146, -0.3183368 ],\n",
       "       [-0.25039146,  0.03105725],\n",
       "       [-0.25039146,  0.18634349],\n",
       "       [-0.25039146, -0.35715836],\n",
       "       [-0.25039146, -0.24069368],\n",
       "       [-0.25039146,  0.26398661],\n",
       "       [-0.25039146, -0.16305055],\n",
       "       [-0.13588317,  0.30280817],\n",
       "       [-0.13588317,  0.18634349],\n",
       "       [-0.09771374,  0.38045129],\n",
       "       [-0.09771374, -0.16305055],\n",
       "       [-0.05954431,  0.18634349],\n",
       "       [-0.05954431, -0.35715836],\n",
       "       [-0.02137488, -0.04658587],\n",
       "       [-0.02137488, -0.39597992],\n",
       "       [-0.02137488, -0.3183368 ],\n",
       "       [-0.02137488,  0.06987881],\n",
       "       [-0.02137488, -0.12422899],\n",
       "       [-0.02137488, -0.00776431],\n",
       "       [ 0.01679455, -0.3183368 ],\n",
       "       [ 0.01679455, -0.04658587],\n",
       "       [ 0.05496398, -0.35715836],\n",
       "       [ 0.05496398, -0.08540743],\n",
       "       [ 0.05496398,  0.34162973],\n",
       "       [ 0.05496398,  0.18634349],\n",
       "       [ 0.05496398,  0.22516505],\n",
       "       [ 0.05496398, -0.3183368 ],\n",
       "       [ 0.09313341, -0.00776431],\n",
       "       [ 0.09313341, -0.16305055],\n",
       "       [ 0.09313341, -0.27951524],\n",
       "       [ 0.09313341, -0.08540743],\n",
       "       [ 0.09313341,  0.06987881],\n",
       "       [ 0.09313341,  0.14752193],\n",
       "       [ 0.13130284, -0.3183368 ],\n",
       "       [ 0.13130284, -0.16305055],\n",
       "       [ 0.16947227, -0.08540743],\n",
       "       [ 0.16947227, -0.00776431],\n",
       "       [ 0.16947227, -0.27951524],\n",
       "       [ 0.16947227,  0.34162973],\n",
       "       [ 0.24581112, -0.27951524],\n",
       "       [ 0.24581112,  0.26398661],\n",
       "       [ 0.24581112,  0.22516505],\n",
       "       [ 0.24581112, -0.39597992],\n",
       "       [ 0.32214998,  0.30280817],\n",
       "       [ 0.32214998,  1.58391968],\n",
       "       [ 0.36031941, -0.82301709],\n",
       "       [ 0.36031941,  1.04041783],\n",
       "       [ 0.39848884, -0.59008772],\n",
       "       [ 0.39848884,  1.73920592],\n",
       "       [ 0.39848884, -1.52180518],\n",
       "       [ 0.39848884,  0.96277471],\n",
       "       [ 0.39848884, -1.5994483 ],\n",
       "       [ 0.39848884,  0.96277471],\n",
       "       [ 0.43665827, -0.62890928],\n",
       "       [ 0.43665827,  0.80748846],\n",
       "       [ 0.4748277 , -1.75473454],\n",
       "       [ 0.4748277 ,  1.46745499],\n",
       "       [ 0.4748277 , -1.67709142],\n",
       "       [ 0.4748277 ,  0.88513158],\n",
       "       [ 0.51299713, -1.56062674],\n",
       "       [ 0.51299713,  0.84631002],\n",
       "       [ 0.55116656, -1.75473454],\n",
       "       [ 0.55116656,  1.6615628 ],\n",
       "       [ 0.58933599, -0.39597992],\n",
       "       [ 0.58933599,  1.42863343],\n",
       "       [ 0.62750542, -1.48298362],\n",
       "       [ 0.62750542,  1.81684904],\n",
       "       [ 0.62750542, -0.55126616],\n",
       "       [ 0.62750542,  0.92395314],\n",
       "       [ 0.66567484, -1.09476801],\n",
       "       [ 0.66567484,  1.54509812],\n",
       "       [ 0.66567484, -1.28887582],\n",
       "       [ 0.66567484,  1.46745499],\n",
       "       [ 0.66567484, -1.17241113],\n",
       "       [ 0.66567484,  1.00159627],\n",
       "       [ 0.66567484, -1.32769738],\n",
       "       [ 0.66567484,  1.50627656],\n",
       "       [ 0.66567484, -1.91002079],\n",
       "       [ 0.66567484,  1.07923939],\n",
       "       [ 0.66567484, -1.91002079],\n",
       "       [ 0.66567484,  0.88513158],\n",
       "       [ 0.70384427, -0.59008772],\n",
       "       [ 0.70384427,  1.27334719],\n",
       "       [ 0.78018313, -1.75473454],\n",
       "       [ 0.78018313,  1.6615628 ],\n",
       "       [ 0.93286085, -0.93948177],\n",
       "       [ 0.93286085,  0.96277471],\n",
       "       [ 0.97103028, -1.17241113],\n",
       "       [ 0.97103028,  1.73920592],\n",
       "       [ 1.00919971, -0.90066021],\n",
       "       [ 1.00919971,  0.49691598],\n",
       "       [ 1.00919971, -1.44416206],\n",
       "       [ 1.00919971,  0.96277471],\n",
       "       [ 1.00919971, -1.56062674],\n",
       "       [ 1.00919971,  1.62274124],\n",
       "       [ 1.04736914, -1.44416206],\n",
       "       [ 1.04736914,  1.38981187],\n",
       "       [ 1.04736914, -1.36651894],\n",
       "       [ 1.04736914,  0.72984534],\n",
       "       [ 1.23821628, -1.4053405 ],\n",
       "       [ 1.23821628,  1.54509812],\n",
       "       [ 1.390894  , -0.7065524 ],\n",
       "       [ 1.390894  ,  1.38981187],\n",
       "       [ 1.42906343, -1.36651894],\n",
       "       [ 1.42906343,  1.46745499],\n",
       "       [ 1.46723286, -0.43480148],\n",
       "       [ 1.46723286,  1.81684904],\n",
       "       [ 1.54357172, -1.01712489],\n",
       "       [ 1.54357172,  0.69102378],\n",
       "       [ 1.61991057, -1.28887582],\n",
       "       [ 1.61991057,  1.35099031],\n",
       "       [ 1.61991057, -1.05594645],\n",
       "       [ 1.61991057,  0.72984534],\n",
       "       [ 2.00160487, -1.63826986],\n",
       "       [ 2.00160487,  1.58391968],\n",
       "       [ 2.26879087, -1.32769738],\n",
       "       [ 2.26879087,  1.11806095],\n",
       "       [ 2.49780745, -0.86183865],\n",
       "       [ 2.49780745,  0.92395314],\n",
       "       [ 2.91767117, -1.25005425],\n",
       "       [ 2.91767117,  1.27334719]])"
      ]
     },
     "execution_count": 22,
     "metadata": {},
     "output_type": "execute_result"
    }
   ],
   "source": [
    "X= data.loc[:, ['Annual Income (k$)','Spending Score (1-100)']].values\n",
    "X\n"
   ]
  },
  {
   "cell_type": "markdown",
   "id": "ca823ac9",
   "metadata": {
    "papermill": {
     "duration": 0.013761,
     "end_time": "2024-01-23T19:58:52.481542",
     "exception": false,
     "start_time": "2024-01-23T19:58:52.467781",
     "status": "completed"
    },
    "tags": []
   },
   "source": [
    "# K-Means Clustering"
   ]
  },
  {
   "cell_type": "markdown",
   "id": "19438292",
   "metadata": {
    "papermill": {
     "duration": 0.013988,
     "end_time": "2024-01-23T19:58:52.509947",
     "exception": false,
     "start_time": "2024-01-23T19:58:52.495959",
     "status": "completed"
    },
    "tags": []
   },
   "source": [
    "# **Elbow method**"
   ]
  },
  {
   "cell_type": "code",
   "execution_count": 23,
   "id": "5971a815",
   "metadata": {
    "execution": {
     "iopub.execute_input": "2024-01-23T19:58:52.539701Z",
     "iopub.status.busy": "2024-01-23T19:58:52.539296Z",
     "iopub.status.idle": "2024-01-23T19:58:52.892327Z",
     "shell.execute_reply": "2024-01-23T19:58:52.890835Z"
    },
    "papermill": {
     "duration": 0.370778,
     "end_time": "2024-01-23T19:58:52.894799",
     "exception": false,
     "start_time": "2024-01-23T19:58:52.524021",
     "status": "completed"
    },
    "tags": []
   },
   "outputs": [],
   "source": [
    "from sklearn.cluster import KMeans"
   ]
  },
  {
   "cell_type": "code",
   "execution_count": 24,
   "id": "89fb8fbb",
   "metadata": {
    "execution": {
     "iopub.execute_input": "2024-01-23T19:58:52.925340Z",
     "iopub.status.busy": "2024-01-23T19:58:52.924924Z",
     "iopub.status.idle": "2024-01-23T19:58:53.055954Z",
     "shell.execute_reply": "2024-01-23T19:58:53.055077Z"
    },
    "papermill": {
     "duration": 0.149233,
     "end_time": "2024-01-23T19:58:53.058518",
     "exception": false,
     "start_time": "2024-01-23T19:58:52.909285",
     "status": "completed"
    },
    "tags": []
   },
   "outputs": [],
   "source": [
    "# calculate Sum of Squared Errors (SSE), also called distorsions for a range of number of cluster with df scaled with StandardScaler \n",
    "sse = []\n",
    "for i in range(1,10):\n",
    "    km = KMeans(n_clusters=i, init='random',max_iter=300, random_state=0)\n",
    "    km.fit(df[['Annual Income (k$)','Spending Score (1-100)']])\n",
    "    sse.append(km.inertia_)"
   ]
  },
  {
   "cell_type": "code",
   "execution_count": 25,
   "id": "3d4f1cba",
   "metadata": {
    "execution": {
     "iopub.execute_input": "2024-01-23T19:58:53.089694Z",
     "iopub.status.busy": "2024-01-23T19:58:53.089305Z",
     "iopub.status.idle": "2024-01-23T19:58:53.418198Z",
     "shell.execute_reply": "2024-01-23T19:58:53.417063Z"
    },
    "papermill": {
     "duration": 0.347091,
     "end_time": "2024-01-23T19:58:53.420701",
     "exception": false,
     "start_time": "2024-01-23T19:58:53.073610",
     "status": "completed"
    },
    "tags": []
   },
   "outputs": [
    {
     "data": {
      "text/plain": [
       "[<matplotlib.lines.Line2D at 0x24f27383ed0>]"
      ]
     },
     "execution_count": 25,
     "metadata": {},
     "output_type": "execute_result"
    },
    {
     "data": {
      "image/png": "[encoded data removed]",
      "text/plain": [
       "<Figure size 640x480 with 1 Axes>"
      ]
     },
     "metadata": {},
     "output_type": "display_data"
    }
   ],
   "source": [
    "plt.xlabel('I')\n",
    "plt.ylabel('Sum of squared error')\n",
    "plt.plot(range(1,10),sse)"
   ]
  },
  {
   "cell_type": "markdown",
   "id": "e1fb2d01",
   "metadata": {
    "papermill": {
     "duration": 0.014753,
     "end_time": "2024-01-23T19:58:53.450401",
     "exception": false,
     "start_time": "2024-01-23T19:58:53.435648",
     "status": "completed"
    },
    "tags": []
   },
   "source": [
    "Then we will take 5 clusters "
   ]
  },
  {
   "cell_type": "code",
   "execution_count": 26,
   "id": "008d57b0",
   "metadata": {
    "execution": {
     "iopub.execute_input": "2024-01-23T19:58:53.482709Z",
     "iopub.status.busy": "2024-01-23T19:58:53.481952Z",
     "iopub.status.idle": "2024-01-23T19:58:53.487046Z",
     "shell.execute_reply": "2024-01-23T19:58:53.485934Z"
    },
    "papermill": {
     "duration": 0.023798,
     "end_time": "2024-01-23T19:58:53.489314",
     "exception": false,
     "start_time": "2024-01-23T19:58:53.465516",
     "status": "completed"
    },
    "tags": []
   },
   "outputs": [],
   "source": [
    "km = KMeans (\n",
    "    n_clusters =5 , # number of clusters/centroids to create\n",
    "    init = 'random', # ‘random’: choose n_clusters observations (rows) at random from data for the initial centroids\n",
    "    max_iter = 300, # this is the default value. This is the maximum number of iterations of the k-means algorithm for a single run.\n",
    "    random_state = 0 # this is the default value. Determines random number generation for centroid initialization. Use an int to make the randomness deterministic.\n",
    ")"
   ]
  },
  {
   "cell_type": "code",
   "execution_count": 27,
   "id": "3aa9bb86",
   "metadata": {
    "execution": {
     "iopub.execute_input": "2024-01-23T19:58:53.521516Z",
     "iopub.status.busy": "2024-01-23T19:58:53.520591Z",
     "iopub.status.idle": "2024-01-23T19:58:53.554983Z",
     "shell.execute_reply": "2024-01-23T19:58:53.554102Z"
    },
    "papermill": {
     "duration": 0.053396,
     "end_time": "2024-01-23T19:58:53.557771",
     "exception": false,
     "start_time": "2024-01-23T19:58:53.504375",
     "status": "completed"
    },
    "tags": []
   },
   "outputs": [
    {
     "data": {
      "text/plain": [
       "array([2, 4, 2, 4, 2, 4, 2, 4, 2, 4, 2, 4, 2, 4, 2, 4, 2, 4, 2, 4, 2, 4,\n",
       "       2, 4, 2, 4, 2, 4, 2, 4, 2, 4, 2, 4, 2, 4, 2, 4, 2, 4, 2, 4, 2, 1,\n",
       "       2, 4, 1, 1, 1, 1, 1, 1, 1, 1, 1, 1, 1, 1, 1, 1, 1, 1, 1, 1, 1, 1,\n",
       "       1, 1, 1, 1, 1, 1, 1, 1, 1, 1, 1, 1, 1, 1, 1, 1, 1, 1, 1, 1, 1, 1,\n",
       "       1, 1, 1, 1, 1, 1, 1, 1, 1, 1, 1, 1, 1, 1, 1, 1, 1, 1, 1, 1, 1, 1,\n",
       "       1, 1, 1, 1, 1, 1, 1, 1, 1, 1, 1, 1, 1, 3, 0, 3, 1, 3, 0, 3, 0, 3,\n",
       "       1, 3, 0, 3, 0, 3, 0, 3, 0, 3, 1, 3, 0, 3, 0, 3, 0, 3, 0, 3, 0, 3,\n",
       "       0, 3, 0, 3, 0, 3, 0, 3, 0, 3, 0, 3, 0, 3, 0, 3, 0, 3, 0, 3, 0, 3,\n",
       "       0, 3, 0, 3, 0, 3, 0, 3, 0, 3, 0, 3, 0, 3, 0, 3, 0, 3, 0, 3, 0, 3,\n",
       "       0, 3])"
      ]
     },
     "execution_count": 27,
     "metadata": {},
     "output_type": "execute_result"
    }
   ],
   "source": [
    "km = KMeans(n_clusters=5)\n",
    "y_predicted = km.fit_predict(data[['Annual Income (k$)','Spending Score (1-100)']])\n",
    "y_predicted"
   ]
  },
  {
   "cell_type": "code",
   "execution_count": null,
   "id": "a890776f",
   "metadata": {
    "papermill": {
     "duration": 0.016877,
     "end_time": "2024-01-23T19:58:54.554406",
     "exception": false,
     "start_time": "2024-01-23T19:58:54.537529",
     "status": "completed"
    },
    "tags": []
   },
   "outputs": [],
   "source": []
  }
 ],
 "metadata": {
  "kaggle": {
   "accelerator": "none",
   "dataSources": [
    {
     "datasetId": 42674,
     "sourceId": 74935,
     "sourceType": "datasetVersion"
    }
   ],
   "dockerImageVersionId": 30635,
   "isGpuEnabled": false,
   "isInternetEnabled": true,
   "language": "python",
   "sourceType": "notebook"
  },
  "kernelspec": {
   "display_name": "Python 3 (ipykernel)",
   "language": "python",
   "name": "python3"
  },
  "language_info": {
   "codemirror_mode": {
    "name": "ipython",
    "version": 3
   },
   "file_extension": ".py",
   "mimetype": "text/x-python",
   "name": "python",
   "nbconvert_exporter": "python",
   "pygments_lexer": "ipython3",
   "version": "3.11.5"
  },
  "papermill": {
   "default_parameters": {},
   "duration": 10.829169,
   "end_time": "2024-01-23T19:58:55.191980",
   "environment_variables": {},
   "exception": null,
   "input_path": "__notebook__.ipynb",
   "output_path": "__notebook__.ipynb",
   "parameters": {},
   "start_time": "2024-01-23T19:58:44.362811",
   "version": "2.4.0"
  }
 },
 "nbformat": 4,
 "nbformat_minor": 5
}
